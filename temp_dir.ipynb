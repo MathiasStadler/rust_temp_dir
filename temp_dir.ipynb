{
 "cells": [
  {
   "cell_type": "markdown",
   "metadata": {},
   "source": [
    "# Try out  std::tempdir in rust\n",
    "\n",
    "## [FROM HERE](https://turreta.com/blog/2020/07/04/ways-to-create-temporary-files-in-rust/)"
   ]
  },
  {
   "cell_type": "code",
   "execution_count": 4,
   "metadata": {
    "vscode": {
     "languageId": "rust"
    }
   },
   "outputs": [],
   "source": [
    "use std::env::temp_dir;\n",
    "use std::io::Result;\n",
    " \n",
    "fn create_temp_dir() -> Result<()> {\n",
    "    let dir = temp_dir();\n",
    "    println!(\"{}\", dir.to_str().unwrap());\n",
    "    Ok(())\n",
    "}"
   ]
  },
  {
   "cell_type": "code",
   "execution_count": 5,
   "metadata": {
    "vscode": {
     "languageId": "rust"
    }
   },
   "outputs": [
    {
     "name": "stdout",
     "output_type": "stream",
     "text": [
      "/tmp\n"
     ]
    }
   ],
   "source": [
    "create_temp_dir();"
   ]
  },
  {
   "cell_type": "markdown",
   "metadata": {},
   "source": [
    "# temp file with uuid"
   ]
  },
  {
   "cell_type": "code",
   "execution_count": 6,
   "metadata": {
    "vscode": {
     "languageId": "rust"
    }
   },
   "outputs": [],
   "source": [
    ":dep uuid = { version = \"1.4.1\", features = [ \"v4\", \"fast-rng\", \"macro-diagnostics\"] }"
   ]
  },
  {
   "cell_type": "code",
   "execution_count": 9,
   "metadata": {
    "vscode": {
     "languageId": "rust"
    }
   },
   "outputs": [],
   "source": [
    "use std::env::temp_dir;\n",
    "use std::io::Result;\n",
    "use uuid::Uuid;\n",
    "use std::fs::File;\n",
    " \n",
    "fn create_temp_dir_uuid() -> Result<()> {\n",
    " \n",
    "    let mut dir = temp_dir();\n",
    "    println!(\"{}\", dir.to_str().unwrap());\n",
    " \n",
    "    let file_name = format!(\"{}.txt\", Uuid::new_v4());\n",
    "    println!(\"{}\", file_name);\n",
    "    dir.push(file_name);\n",
    " \n",
    "    let file = File::create(dir)?;\n",
    "    Ok(())\n",
    "}"
   ]
  },
  {
   "cell_type": "code",
   "execution_count": 10,
   "metadata": {
    "vscode": {
     "languageId": "rust"
    }
   },
   "outputs": [
    {
     "name": "stdout",
     "output_type": "stream",
     "text": [
      "/tmp\n",
      "ac60718e-2767-4f17-88a9-c910e6f45102.txt\n"
     ]
    }
   ],
   "source": [
    "create_temp_dir_uuid();"
   ]
  },
  {
   "cell_type": "markdown",
   "metadata": {},
   "source": [
    "# create tempfile and tempdir"
   ]
  },
  {
   "cell_type": "code",
   "execution_count": 13,
   "metadata": {
    "vscode": {
     "languageId": "rust"
    }
   },
   "outputs": [],
   "source": [
    ":dep tempfile"
   ]
  },
  {
   "cell_type": "code",
   "execution_count": 19,
   "metadata": {
    "vscode": {
     "languageId": "rust"
    }
   },
   "outputs": [],
   "source": [
    "use tempfile::{NamedTempFile, TempDir};\n",
    "use std::io::Result;\n",
    "use std::io::Write;\n",
    "\n",
    "fn create_temp_dir_and_file() -> Result<()> {\n",
    "\n",
    "    // Create a temporary file inside of the directory returned by `std::env::temp_dir()`.\n",
    "    let mut temp_file = NamedTempFile::new()?;\n",
    "\n",
    "    write!(temp_file, \"This is a temp file\")?;\n",
    "    println!(\"{:?}\", temp_file);\n",
    "\n",
    "\n",
    "    // Create a temporary dir inside of the directory returned by `std::env::temp_dir()`.\n",
    "    let temp_dir = TempDir::new()?;\n",
    "    println!(\"{:?}\", temp_dir);\n",
    " \n",
    "    write!(temp_file, \"This is a temp file\")?;\n",
    "    println!(\"{:?}\", temp_file);\n",
    "\n",
    "    Ok(())\n",
    "}"
   ]
  },
  {
   "cell_type": "code",
   "execution_count": 20,
   "metadata": {
    "vscode": {
     "languageId": "rust"
    }
   },
   "outputs": [
    {
     "name": "stdout",
     "output_type": "stream",
     "text": [
      "NamedTempFile(\"/tmp/.tmpsWvBkG\")\n",
      "TempDir { path: \"/tmp/.tmpiXHh5a\" }\n",
      "NamedTempFile(\"/tmp/.tmpsWvBkG\")\n"
     ]
    }
   ],
   "source": [
    "create_temp_dir_and_file();"
   ]
  },
  {
   "cell_type": "markdown",
   "metadata": {},
   "source": []
  },
  {
   "cell_type": "code",
   "execution_count": 2,
   "metadata": {
    "vscode": {
     "languageId": "rust"
    }
   },
   "outputs": [],
   "source": [
    "//:dep execute\n",
    ":dep cmd_lib"
   ]
  },
  {
   "cell_type": "code",
   "execution_count": null,
   "metadata": {
    "vscode": {
     "languageId": "rust"
    }
   },
   "outputs": [],
   "source": [
    "use cmd_lib::*;\n",
    "\n",
    "let gopts = vec![vec![\"-l\", \"-a\", \"/\"], vec![\"-a\", \"/var\"]];\n",
    "for opts in gopts {\n",
    "    run_cmd!(ls $[opts])?;\n",
    "}"
   ]
  },
  {
   "cell_type": "code",
   "execution_count": 2,
   "metadata": {
    "vscode": {
     "languageId": "rust"
    }
   },
   "outputs": [
    {
     "ename": "Error",
     "evalue": "unresolved import `cmd_lib`",
     "output_type": "error",
     "traceback": [
      "\u001b[31m[E0432] Error:\u001b[0m unresolved import `cmd_lib`"
     ]
    },
    {
     "ename": "Error",
     "evalue": "cannot find macro `run_cmd` in this scope",
     "output_type": "error",
     "traceback": [
      "\u001b[31mError:\u001b[0m cannot find macro `run_cmd` in this scope",
      "   \u001b[38;5;246m╭\u001b[0m\u001b[38;5;246m─\u001b[0m\u001b[38;5;246m[\u001b[0mcommand_2:1:1\u001b[38;5;246m]\u001b[0m",
      "   \u001b[38;5;246m│\u001b[0m",
      " \u001b[38;5;246m5 │\u001b[0m \u001b[38;5;249m \u001b[0m\u001b[38;5;249m \u001b[0m\u001b[38;5;249m \u001b[0m\u001b[38;5;249m \u001b[0m\u001b[38;5;54mr\u001b[0m\u001b[38;5;54mu\u001b[0m\u001b[38;5;54mn\u001b[0m\u001b[38;5;54m_\u001b[0m\u001b[38;5;54mc\u001b[0m\u001b[38;5;54mm\u001b[0m\u001b[38;5;54md\u001b[0m\u001b[38;5;249m!\u001b[0m\u001b[38;5;249m(\u001b[0m\u001b[38;5;249ml\u001b[0m\u001b[38;5;249ms\u001b[0m\u001b[38;5;249m \u001b[0m\u001b[38;5;249m$\u001b[0m\u001b[38;5;249m[\u001b[0m\u001b[38;5;249mo\u001b[0m\u001b[38;5;249mp\u001b[0m\u001b[38;5;249mt\u001b[0m\u001b[38;5;249ms\u001b[0m\u001b[38;5;249m]\u001b[0m\u001b[38;5;249m)\u001b[0m\u001b[38;5;249m?\u001b[0m\u001b[38;5;249m;\u001b[0m",
      " \u001b[38;5;240m  │\u001b[0m     \u001b[38;5;54m─\u001b[0m\u001b[38;5;54m─\u001b[0m\u001b[38;5;54m─\u001b[0m\u001b[38;5;54m┬\u001b[0m\u001b[38;5;54m─\u001b[0m\u001b[38;5;54m─\u001b[0m\u001b[38;5;54m─\u001b[0m  ",
      " \u001b[38;5;240m  │\u001b[0m        \u001b[38;5;54m╰\u001b[0m\u001b[38;5;54m─\u001b[0m\u001b[38;5;54m─\u001b[0m\u001b[38;5;54m─\u001b[0m\u001b[38;5;54m─\u001b[0m\u001b[38;5;54m─\u001b[0m error: cannot find macro `run_cmd` in this scope",
      "\u001b[38;5;246m───╯\u001b[0m"
     ]
    }
   ],
   "source": [
    "use cmd_lib::*;\n",
    "\n",
    "let gopts = vec![vec![\"-l\", \"-a\", \"/\"], vec![\"-a\", \"/var\"]];\n",
    "for opts in gopts {\n",
    "    run_cmd!(ls $[opts])?;\n",
    "}"
   ]
  }
 ],
 "metadata": {
  "kernelspec": {
   "display_name": "Rust",
   "language": "rust",
   "name": "rust"
  },
  "language_info": {
   "codemirror_mode": "rust",
   "file_extension": ".rs",
   "mimetype": "text/rust",
   "name": "Rust",
   "pygment_lexer": "rust",
   "version": ""
  },
  "orig_nbformat": 4
 },
 "nbformat": 4,
 "nbformat_minor": 2
}
