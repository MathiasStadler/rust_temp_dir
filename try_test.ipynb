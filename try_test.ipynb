{
 "cells": [
  {
   "cell_type": "markdown",
   "metadata": {},
   "source": [
    "# try test"
   ]
  },
  {
   "cell_type": "markdown",
   "metadata": {},
   "source": [
    "# [CODE FROM HERE](https://web.mit.edu/rust-lang_v1.25/arch/amd64_ubuntu1404/share/doc/rust/html/book/second-edition/ch11-01-writing-tests.html)"
   ]
  },
  {
   "cell_type": "code",
   "execution_count": null,
   "metadata": {
    "vscode": {
     "languageId": "rust"
    }
   },
   "outputs": [],
   "source": [
    "#[cfg(test)]\n",
    "mod tests {\n",
    "    #[test]\n",
    "    fn it_works() {\n",
    "        assert_eq!(2 + 2, 4);\n",
    "    }\n",
    "}\n"
   ]
  },
  {
   "cell_type": "markdown",
   "metadata": {},
   "source": [
    "# find the work dir of notebook"
   ]
  },
  {
   "cell_type": "markdown",
   "metadata": {},
   "source": [
    "# the last generate folder inside /tmp\n",
    "ls -ltrdt   --color=none /tmp/.tmp* |head -1| awk '{print $9}'"
   ]
  },
  {
   "cell_type": "code",
   "execution_count": null,
   "metadata": {
    "vscode": {
     "languageId": "rust"
    }
   },
   "outputs": [],
   "source": [
    ":dep cmd_lib"
   ]
  },
  {
   "cell_type": "code",
   "execution_count": null,
   "metadata": {
    "vscode": {
     "languageId": "rust"
    }
   },
   "outputs": [],
   "source": [
    "use cmd_lib::*;\n",
    "\n",
    "let gopts = vec![vec![\"-l\", \"-a\", \"/\"], vec![\"-a\", \"/var\"]];\n",
    "for opts in gopts {\n",
    "    run_cmd!(ls $[opts])?;\n",
    "}"
   ]
  },
  {
   "cell_type": "code",
   "execution_count": null,
   "metadata": {
    "vscode": {
     "languageId": "rust"
    }
   },
   "outputs": [],
   "source": [
    "// ls -ltrdt   --color=none /tmp/.tmp* |head -1| awk '{print $9}'\n",
    "use cmd_lib::*;\n",
    "\n",
    "let command = vec![vec![\"ls\",\"-l\", \"-a\", \"/tmp\"], vec![\"uname\", \"-a\"]];\n",
    "for cmd in command {\n",
    "    run_cmd!($[cmd])?; \n",
    "}"
   ]
  },
  {
   "cell_type": "code",
   "execution_count": null,
   "metadata": {
    "vscode": {
     "languageId": "rust"
    }
   },
   "outputs": [],
   "source": [
    "// ls -ltrdt   --color=none /tmp/.tmp* |head -1| awk '{print $9}'\n",
    "use cmd_lib::*;\n",
    "\n",
    "let command = vec![vec![\"ls\",\"-l\", \"-a\", \"/tmp\"]];\n",
    "for cmd in command {\n",
    "    run_cmd!($[cmd])?; \n",
    "}"
   ]
  },
  {
   "cell_type": "code",
   "execution_count": null,
   "metadata": {
    "vscode": {
     "languageId": "rust"
    }
   },
   "outputs": [],
   "source": [
    "// ls -ltrdt   --color=none /tmp/.tmp* |head -1| awk '{print $9}'\n",
    "use cmd_lib::*;\n",
    "\n",
    "let command = vec![vec![\"bash\",\"-c\",\"ls -l -a /tmp | wc -l\"]];\n",
    "for cmd in command {\n",
    "    run_cmd!($[cmd])?; \n",
    "}"
   ]
  },
  {
   "cell_type": "code",
   "execution_count": null,
   "metadata": {
    "vscode": {
     "languageId": "rust"
    }
   },
   "outputs": [],
   "source": [
    "// ls -ltrdt   --color=none /tmp/.tmp* |head -1| awk '{print $9}'\n",
    "use cmd_lib::*;\n",
    "\n",
    "let command = vec![vec![\"bash\",\"-c\",\"ls -ldt /tmp/.tmp* | awk '{print $9}' |head -1\"]];\n",
    "for cmd in command {\n",
    "    let notebook_work_folder = run_cmd!($[cmd])?; \n",
    "    //println!(\"notebook work folder (:?)\",notebook_work_folder);\n",
    "}"
   ]
  },
  {
   "cell_type": "markdown",
   "metadata": {},
   "source": [
    "# use Result"
   ]
  },
  {
   "cell_type": "code",
   "execution_count": null,
   "metadata": {
    "vscode": {
     "languageId": "rust"
    }
   },
   "outputs": [],
   "source": [
    "// ls -ltrdt   --color=none /tmp/.tmp* |head -1| awk '{print $9}'\n",
    "use cmd_lib::*;\n",
    "\n",
    "//HIER WEITER\n",
    "let command = vec![vec![\"bash\",\"-c\",\"ls -ldt /tmp/.tmp* | awk '{print $9}' |head -1\"]];\n",
    "\n",
    "for cmd in command {\n",
    "    let result = run_cmd!($[cmd]); \n",
    "    match result {\n",
    "        Ok(file_dir) => println!(\"Parsed integer: {:?}\", file_dir),                 \n",
    "        Err(e) => println!(\"Error parsing integer: {}\", e),\n",
    "    }\n",
    "\n",
    "    //println!(\"notebook work folder (:?)\",notebook_work_folder);\n",
    "}"
   ]
  },
  {
   "cell_type": "code",
   "execution_count": 22,
   "metadata": {
    "vscode": {
     "languageId": "rust"
    }
   },
   "outputs": [
    {
     "name": "stdout",
     "output_type": "stream",
     "text": [
      "[\"bash\", \"-c\", \"ls -ldt /tmp/.tmp* | awk '{print $9}' |head -1\"]\n",
      "/tmp/.tmpWKjmwF\n",
      "Parsed integer: ()\n"
     ]
    },
    {
     "data": {
      "text/plain": [
       "()"
      ]
     },
     "execution_count": 22,
     "metadata": {},
     "output_type": "execute_result"
    }
   ],
   "source": [
    "// ls -ltrdt   --color=none /tmp/.tmp* |head -1| awk '{print $9}'\n",
    "use cmd_lib::*;\n",
    "\n",
    "//HIER WEITER\n",
    "let command = vec![vec![\"bash\",\"-c\",\"ls -ldt /tmp/.tmp* | awk '{print $9}' |head -1\"]];\n",
    "\n",
    "for cmd in command {\n",
    "    println!(\"{:?}\",cmd);\n",
    "    let _result = run_cmd!($[cmd]); \n",
    "    match _result {\n",
    "        Ok(file_dir) => println!(\"Parsed integer: {:?}\", file_dir),                 \n",
    "        Err(e) => println!(\"Error parsing integer: {}\", e),\n",
    "    }\n",
    "\n",
    "    //println!(\"notebook work folder (:?)\",notebook_work_folder);\n",
    "}"
   ]
  },
  {
   "cell_type": "markdown",
   "metadata": {},
   "source": [
    "# another"
   ]
  },
  {
   "cell_type": "code",
   "execution_count": null,
   "metadata": {
    "vscode": {
     "languageId": "rust"
    }
   },
   "outputs": [],
   "source": [
    "fn say_hello(id: &str, msg: &str) {\n",
    "    println!(\"{}{}\", id, msg);\n",
    "}\n",
    "\n",
    "fn call_say_hello() {\n",
    "    say_hello(\"[info]\", \"this is Rust!\");\n",
    "}"
   ]
  },
  {
   "cell_type": "code",
   "execution_count": null,
   "metadata": {
    "vscode": {
     "languageId": "rust"
    }
   },
   "outputs": [],
   "source": [
    "call_say_hello();"
   ]
  },
  {
   "cell_type": "code",
   "execution_count": null,
   "metadata": {
    "vscode": {
     "languageId": "rust"
    }
   },
   "outputs": [],
   "source": [
    ":last_compile_dir\t"
   ]
  },
  {
   "cell_type": "markdown",
   "metadata": {},
   "source": [
    "# first try test"
   ]
  },
  {
   "cell_type": "code",
   "execution_count": null,
   "metadata": {
    "vscode": {
     "languageId": "rust"
    }
   },
   "outputs": [],
   "source": [
    "#[cfg(test)]\n",
    "mod tests {\n",
    "    #[test]\n",
    "    fn it_works() {\n",
    "        assert_eq!(2 + 2, 4);\n",
    "    }\n",
    "}"
   ]
  },
  {
   "cell_type": "markdown",
   "metadata": {},
   "source": [
    "# list of tests in the notebook"
   ]
  },
  {
   "cell_type": "code",
   "execution_count": null,
   "metadata": {
    "vscode": {
     "languageId": "rust"
    }
   },
   "outputs": [],
   "source": [
    "// cargo test --lib -- --list\n",
    "use cmd_lib::*;\n",
    "\n",
    "let command = vec![vec![\"bash\",\"-c\",\"ls -ldt /tmp/.tmp* | awk '{print $9}' |head -1\"]];\n",
    "for cmd in command {\n",
    "    run_cmd!($[cmd])?; \n",
    "}"
   ]
  }
 ],
 "metadata": {
  "kernelspec": {
   "display_name": "Rust",
   "language": "rust",
   "name": "rust"
  },
  "language_info": {
   "codemirror_mode": "rust",
   "file_extension": ".rs",
   "mimetype": "text/rust",
   "name": "Rust",
   "pygment_lexer": "rust",
   "version": ""
  },
  "orig_nbformat": 4
 },
 "nbformat": 4,
 "nbformat_minor": 2
}
