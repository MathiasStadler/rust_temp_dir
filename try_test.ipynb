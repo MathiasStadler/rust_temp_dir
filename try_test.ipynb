{
 "cells": [
  {
   "cell_type": "markdown",
   "metadata": {},
   "source": [
    "# try test"
   ]
  },
  {
   "cell_type": "markdown",
   "metadata": {},
   "source": [
    "# [CODE FROM HERE](https://web.mit.edu/rust-lang_v1.25/arch/amd64_ubuntu1404/share/doc/rust/html/book/second-edition/ch11-01-writing-tests.html)"
   ]
  },
  {
   "cell_type": "code",
   "execution_count": null,
   "metadata": {
    "vscode": {
     "languageId": "rust"
    }
   },
   "outputs": [],
   "source": [
    "#[cfg(test)]\n",
    "mod tests {\n",
    "    #[test]\n",
    "    fn it_works() {\n",
    "        assert_eq!(2 + 2, 4);\n",
    "    }\n",
    "}\n"
   ]
  },
  {
   "cell_type": "markdown",
   "metadata": {},
   "source": [
    "# find the work dir of notebook"
   ]
  },
  {
   "cell_type": "markdown",
   "metadata": {},
   "source": [
    "# the last generate folder inside /tmp\n",
    "ls -ltrdt   --color=none /tmp/.tmp* |head -1| awk '{print $9}'"
   ]
  },
  {
   "cell_type": "code",
   "execution_count": null,
   "metadata": {
    "vscode": {
     "languageId": "rust"
    }
   },
   "outputs": [],
   "source": [
    ":dep cmd_lib\n",
    "//https://crates.io/crates/cmd_lib/0.9.4"
   ]
  },
  {
   "cell_type": "code",
   "execution_count": null,
   "metadata": {
    "vscode": {
     "languageId": "rust"
    }
   },
   "outputs": [],
   "source": [
    "use cmd_lib::*;\n",
    "\n",
    "let gopts = vec![vec![\"-l\", \"-a\", \"/\"], vec![\"-a\", \"/var\"]];\n",
    "for opts in gopts {\n",
    "    run_cmd!(ls $[opts])?;\n",
    "}"
   ]
  },
  {
   "cell_type": "code",
   "execution_count": null,
   "metadata": {
    "vscode": {
     "languageId": "rust"
    }
   },
   "outputs": [],
   "source": [
    "// ls -ltrdt   --color=none /tmp/.tmp* |head -1| awk '{print $9}'\n",
    "use cmd_lib::*;\n",
    "\n",
    "let command = vec![vec![\"ls\",\"-l\", \"-a\", \"/tmp\"], vec![\"uname\", \"-a\"]];\n",
    "for cmd in command {\n",
    "    run_cmd!($[cmd])?; \n",
    "}"
   ]
  },
  {
   "cell_type": "code",
   "execution_count": null,
   "metadata": {
    "vscode": {
     "languageId": "rust"
    }
   },
   "outputs": [],
   "source": [
    "// ls -ltrdt   --color=none /tmp/.tmp* |head -1| awk '{print $9}'\n",
    "use cmd_lib::*;\n",
    "\n",
    "let command = vec![vec![\"ls\",\"-l\", \"-a\", \"/tmp\"]];\n",
    "for cmd in command {\n",
    "    run_cmd!($[cmd])?; \n",
    "}"
   ]
  },
  {
   "cell_type": "code",
   "execution_count": null,
   "metadata": {
    "vscode": {
     "languageId": "rust"
    }
   },
   "outputs": [],
   "source": [
    "// ls -ltrdt   --color=none /tmp/.tmp* |head -1| awk '{print $9}'\n",
    "use cmd_lib::*;\n",
    "\n",
    "let command = vec![vec![\"bash\",\"-c\",\"ls -l -a /tmp | wc -l\"]];\n",
    "for cmd in command {\n",
    "    run_cmd!($[cmd])?; \n",
    "}"
   ]
  },
  {
   "cell_type": "code",
   "execution_count": null,
   "metadata": {
    "vscode": {
     "languageId": "rust"
    }
   },
   "outputs": [],
   "source": [
    "// ls -ltrdt   --color=none /tmp/.tmp* |head -1| awk '{print $9}'\n",
    "use cmd_lib::*;\n",
    "\n",
    "let command = vec![vec![\"bash\",\"-c\",\"ls -ldt /tmp/.tmp* | awk '{print $9}' |head -1\"]];\n",
    "for cmd in command {\n",
    "    let notebook_work_folder = run_cmd!($[cmd])?; \n",
    "    //println!(\"notebook work folder (:?)\",notebook_work_folder);\n",
    "}"
   ]
  },
  {
   "cell_type": "markdown",
   "metadata": {},
   "source": [
    "# use Result"
   ]
  },
  {
   "cell_type": "code",
   "execution_count": 28,
   "metadata": {
    "vscode": {
     "languageId": "rust"
    }
   },
   "outputs": [
    {
     "ename": "Error",
     "evalue": "`()` doesn't implement `std::fmt::Display`",
     "output_type": "error",
     "traceback": [
      "\u001b[31m[E0277] Error:\u001b[0m `()` doesn't implement `std::fmt::Display`",
      "    \u001b[38;5;246m╭\u001b[0m\u001b[38;5;246m─\u001b[0m\u001b[38;5;246m[\u001b[0mcommand_28:1:1\u001b[38;5;246m]\u001b[0m",
      "    \u001b[38;5;246m│\u001b[0m",
      " \u001b[38;5;246m11 │\u001b[0m \u001b[38;5;249m \u001b[0m\u001b[38;5;249m \u001b[0m\u001b[38;5;249m \u001b[0m\u001b[38;5;249m \u001b[0m\u001b[38;5;249m \u001b[0m\u001b[38;5;249m \u001b[0m\u001b[38;5;249m \u001b[0m\u001b[38;5;249m \u001b[0m\u001b[38;5;249mO\u001b[0m\u001b[38;5;249mk\u001b[0m\u001b[38;5;249m(\u001b[0m\u001b[38;5;249mf\u001b[0m\u001b[38;5;249mi\u001b[0m\u001b[38;5;249ml\u001b[0m\u001b[38;5;249me\u001b[0m\u001b[38;5;249m_\u001b[0m\u001b[38;5;249md\u001b[0m\u001b[38;5;249mi\u001b[0m\u001b[38;5;249mr\u001b[0m\u001b[38;5;249m)\u001b[0m\u001b[38;5;249m \u001b[0m\u001b[38;5;249m=\u001b[0m\u001b[38;5;249m>\u001b[0m\u001b[38;5;249m \u001b[0m\u001b[38;5;249mp\u001b[0m\u001b[38;5;249mr\u001b[0m\u001b[38;5;249mi\u001b[0m\u001b[38;5;249mn\u001b[0m\u001b[38;5;249mt\u001b[0m\u001b[38;5;249ml\u001b[0m\u001b[38;5;249mn\u001b[0m\u001b[38;5;249m!\u001b[0m\u001b[38;5;249m(\u001b[0m\u001b[38;5;249m\"\u001b[0m\u001b[38;5;249mP\u001b[0m\u001b[38;5;249ma\u001b[0m\u001b[38;5;249mr\u001b[0m\u001b[38;5;249ms\u001b[0m\u001b[38;5;249me\u001b[0m\u001b[38;5;249md\u001b[0m\u001b[38;5;249m \u001b[0m\u001b[38;5;249mi\u001b[0m\u001b[38;5;249mn\u001b[0m\u001b[38;5;249mt\u001b[0m\u001b[38;5;249me\u001b[0m\u001b[38;5;249mg\u001b[0m\u001b[38;5;249me\u001b[0m\u001b[38;5;249mr\u001b[0m\u001b[38;5;249m:\u001b[0m\u001b[38;5;249m \u001b[0m\u001b[38;5;249m{\u001b[0m\u001b[38;5;249m}\u001b[0m\u001b[38;5;249m\"\u001b[0m\u001b[38;5;249m,\u001b[0m\u001b[38;5;249m \u001b[0m\u001b[38;5;54mf\u001b[0m\u001b[38;5;54mi\u001b[0m\u001b[38;5;54ml\u001b[0m\u001b[38;5;54me\u001b[0m\u001b[38;5;54m_\u001b[0m\u001b[38;5;54md\u001b[0m\u001b[38;5;54mi\u001b[0m\u001b[38;5;54mr\u001b[0m\u001b[38;5;249m)\u001b[0m\u001b[38;5;249m,\u001b[0m",
      " \u001b[38;5;240m   │\u001b[0m                                                        \u001b[38;5;54m─\u001b[0m\u001b[38;5;54m─\u001b[0m\u001b[38;5;54m─\u001b[0m\u001b[38;5;54m─\u001b[0m\u001b[38;5;54m┬\u001b[0m\u001b[38;5;54m─\u001b[0m\u001b[38;5;54m─\u001b[0m\u001b[38;5;54m─\u001b[0m  ",
      " \u001b[38;5;240m   │\u001b[0m                                                            \u001b[38;5;54m╰\u001b[0m\u001b[38;5;54m─\u001b[0m\u001b[38;5;54m─\u001b[0m\u001b[38;5;54m─\u001b[0m\u001b[38;5;54m─\u001b[0m\u001b[38;5;54m─\u001b[0m `()` cannot be formatted with the default formatter",
      "\u001b[38;5;246m────╯\u001b[0m"
     ]
    }
   ],
   "source": [
    "// ls -ltrdt   --color=none /tmp/.tmp* |head -1| awk '{print $9}'\n",
    "use cmd_lib::*;\n",
    "\n",
    "\n",
    "//HIER WEITER\n",
    "let command = vec![vec![\"bash\",\"-c\",\"ls -ldt /tmp/.tmp* | awk '{print $9}' |head -1\"]];\n",
    "\n",
    "for cmd in command {\n",
    "    let result:CmdResult = run_cmd!($[cmd]); \n",
    "    match result {\n",
    "        Ok(file_dir) => println!(\"Parsed integer: {}\", file_dir),                 \n",
    "        Err(e) => println!(\"Error parsing integer: {}\", e),\n",
    "    }\n",
    "\n",
    "    //println!(\"notebook work folder (:?)\",notebook_work_folder);\n",
    "}"
   ]
  },
  {
   "cell_type": "code",
   "execution_count": 22,
   "metadata": {
    "vscode": {
     "languageId": "rust"
    }
   },
   "outputs": [
    {
     "name": "stdout",
     "output_type": "stream",
     "text": [
      "[\"bash\", \"-c\", \"ls -ldt /tmp/.tmp* | awk '{print $9}' |head -1\"]\n",
      "/tmp/.tmpWKjmwF\n",
      "Parsed integer: ()\n"
     ]
    },
    {
     "data": {
      "text/plain": [
       "()"
      ]
     },
     "execution_count": 22,
     "metadata": {},
     "output_type": "execute_result"
    }
   ],
   "source": [
    "// ls -ltrdt   --color=none /tmp/.tmp* |head -1| awk '{print $9}'\n",
    "use cmd_lib::*;\n",
    "\n",
    "//HIER WEITER\n",
    "let command = vec![vec![\"bash\",\"-c\",\"ls -ldt /tmp/.tmp* | awk '{print $9}' |head -1\"]];\n",
    "\n",
    "for cmd in command {\n",
    "    println!(\"{:?}\",cmd);\n",
    "    let _result = run_cmd!($[cmd]); \n",
    "    match _result {\n",
    "        Ok(file_dir) => println!(\"Parsed integer: {:?}\", file_dir),                 \n",
    "        Err(e) => println!(\"Error parsing integer: {}\", e),\n",
    "    }\n",
    "\n",
    "    //println!(\"notebook work folder (:?)\",notebook_work_folder);\n",
    "}"
   ]
  },
  {
   "cell_type": "markdown",
   "metadata": {},
   "source": [
    "# another"
   ]
  },
  {
   "cell_type": "code",
   "execution_count": null,
   "metadata": {
    "vscode": {
     "languageId": "rust"
    }
   },
   "outputs": [],
   "source": [
    "fn say_hello(id: &str, msg: &str) {\n",
    "    println!(\"{}{}\", id, msg);\n",
    "}\n",
    "\n",
    "fn call_say_hello() {\n",
    "    say_hello(\"[info]\", \"this is Rust!\");\n",
    "}"
   ]
  },
  {
   "cell_type": "code",
   "execution_count": null,
   "metadata": {
    "vscode": {
     "languageId": "rust"
    }
   },
   "outputs": [],
   "source": [
    "call_say_hello();"
   ]
  },
  {
   "cell_type": "code",
   "execution_count": null,
   "metadata": {
    "vscode": {
     "languageId": "rust"
    }
   },
   "outputs": [],
   "source": [
    ":last_compile_dir\t"
   ]
  },
  {
   "cell_type": "markdown",
   "metadata": {},
   "source": [
    "# first try test"
   ]
  },
  {
   "cell_type": "code",
   "execution_count": null,
   "metadata": {
    "vscode": {
     "languageId": "rust"
    }
   },
   "outputs": [],
   "source": [
    "#[cfg(test)]\n",
    "mod tests {\n",
    "    #[test]\n",
    "    fn it_works() {\n",
    "        assert_eq!(2 + 2, 4);\n",
    "    }\n",
    "}"
   ]
  },
  {
   "cell_type": "markdown",
   "metadata": {},
   "source": [
    "# list of tests in the notebook"
   ]
  },
  {
   "cell_type": "code",
   "execution_count": null,
   "metadata": {
    "vscode": {
     "languageId": "rust"
    }
   },
   "outputs": [],
   "source": [
    "// cargo test --lib -- --list\n",
    "use cmd_lib::*;\n",
    "\n",
    "let command = vec![vec![\"bash\",\"-c\",\"ls -ldt /tmp/.tmp* | awk '{print $9}' |head -1\"]];\n",
    "for cmd in command {\n",
    "    run_cmd!($[cmd])?; \n",
    "}"
   ]
  },
  {
   "cell_type": "code",
   "execution_count": 31,
   "metadata": {
    "vscode": {
     "languageId": "rust"
    }
   },
   "outputs": [
    {
     "name": "stderr",
     "output_type": "stream",
     "text": [
      "Your rust version is rustc 1.72.0 (5680fa18f 2023-08-23)\n"
     ]
    }
   ],
   "source": [
    "use cmd_lib::run_fun;\n",
    "let version:String = run_fun!(rustc --version).unwrap();\n",
    "eprintln!(\"Your rust version is {}\", version);"
   ]
  }
 ],
 "metadata": {
  "kernelspec": {
   "display_name": "Rust",
   "language": "rust",
   "name": "rust"
  },
  "language_info": {
   "codemirror_mode": "rust",
   "file_extension": ".rs",
   "mimetype": "text/rust",
   "name": "Rust",
   "pygment_lexer": "rust",
   "version": ""
  },
  "orig_nbformat": 4
 },
 "nbformat": 4,
 "nbformat_minor": 2
}
