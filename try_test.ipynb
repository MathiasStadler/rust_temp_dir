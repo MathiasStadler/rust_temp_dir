{
 "cells": [
  {
   "cell_type": "markdown",
   "metadata": {},
   "source": [
    "# try test"
   ]
  },
  {
   "cell_type": "markdown",
   "metadata": {},
   "source": [
    "# [CODE FROM HERE](https://web.mit.edu/rust-lang_v1.25/arch/amd64_ubuntu1404/share/doc/rust/html/book/second-edition/ch11-01-writing-tests.html)"
   ]
  },
  {
   "cell_type": "code",
   "execution_count": 2,
   "metadata": {
    "vscode": {
     "languageId": "rust"
    }
   },
   "outputs": [],
   "source": [
    "#[cfg(test)]\n",
    "mod tests {\n",
    "    #[test]\n",
    "    fn it_works() {\n",
    "        assert_eq!(2 + 2, 4);\n",
    "    }\n",
    "}\n"
   ]
  },
  {
   "cell_type": "markdown",
   "metadata": {},
   "source": [
    "# find the work dir of notebook"
   ]
  },
  {
   "cell_type": "markdown",
   "metadata": {},
   "source": [
    "# the last generate folder inside /tmp\n",
    "ls -ltrdt   --color=none /tmp/.tmp* |head -1| awk '{print $9}'"
   ]
  },
  {
   "cell_type": "code",
   "execution_count": 2,
   "metadata": {
    "vscode": {
     "languageId": "rust"
    }
   },
   "outputs": [],
   "source": [
    ":dep cmd_lib"
   ]
  },
  {
   "cell_type": "code",
   "execution_count": null,
   "metadata": {
    "vscode": {
     "languageId": "rust"
    }
   },
   "outputs": [],
   "source": [
    "use cmd_lib::*;\n",
    "\n",
    "let gopts = vec![vec![\"-l\", \"-a\", \"/\"], vec![\"-a\", \"/var\"]];\n",
    "for opts in gopts {\n",
    "    run_cmd!(ls $[opts])?;\n",
    "}"
   ]
  },
  {
   "cell_type": "code",
   "execution_count": null,
   "metadata": {
    "vscode": {
     "languageId": "rust"
    }
   },
   "outputs": [],
   "source": [
    "// ls -ltrdt   --color=none /tmp/.tmp* |head -1| awk '{print $9}'\n",
    "use cmd_lib::*;\n",
    "\n",
    "let command = vec![vec![\"ls\",\"-l\", \"-a\", \"/tmp\"], vec![\"-a\", \"/var\"]];\n",
    "for cmd in command {\n",
    "    run_cmd!($[cmd])?; \n",
    "}"
   ]
  },
  {
   "cell_type": "code",
   "execution_count": 28,
   "metadata": {
    "vscode": {
     "languageId": "rust"
    }
   },
   "outputs": [
    {
     "name": "stdout",
     "output_type": "stream",
     "text": [
      "/tmp:\n",
      "insgesamt 328\n",
      "drwxr-xr-x 21 root    root      4096 Jan 21  2020 ..\n",
      "drwxrwxrwt  2 root    root      4096 Sep  6 09:13 .XIM-unix\n",
      "drwxrwxrwt  2 root    root      4096 Sep  6 09:13 .Test-unix\n",
      "drwxrwxrwt  2 root    root      4096 Sep  6 09:13 .font-unix\n",
      "drwx------  3 root    root      4096 Sep  6 09:13 systemd-private-067fb8566772478cb30231b160c7121b-systemd-resolved.service-xzuDsZ\n",
      "drwx------  3 root    root      4096 Sep  6 09:13 systemd-private-067fb8566772478cb30231b160c7121b-systemd-timesyncd.service-HHnWWN\n",
      "drwx------  3 root    root      4096 Sep  6 09:13 systemd-private-067fb8566772478cb30231b160c7121b-bluetooth.service-Ae1Pge\n",
      "drwx------  3 root    root      4096 Sep  6 09:13 systemd-private-067fb8566772478cb30231b160c7121b-power-profiles-daemon.service-v3GKzg\n",
      "drwx------  3 root    root      4096 Sep  6 09:13 systemd-private-067fb8566772478cb30231b160c7121b-switcheroo-control.service-Tztebr\n",
      "drwx------  3 root    root      4096 Sep  6 09:13 systemd-private-067fb8566772478cb30231b160c7121b-systemd-logind.service-b8uZvT\n",
      "drwx------  3 root    root      4096 Sep  6 09:13 systemd-private-067fb8566772478cb30231b160c7121b-ModemManager.service-jCzJQm\n",
      "drwx------  3 root    root      4096 Sep  6 09:13 systemd-private-067fb8566772478cb30231b160c7121b-apache2.service-rK6029\n",
      "drwx------  3 root    root      4096 Sep  6 09:13 systemd-private-067fb8566772478cb30231b160c7121b-colord.service-WCwKyZ\n",
      "-r--r--r--  1 gdm     gdm         11 Sep  6 09:13 .X1025-lock\n",
      "-r--r--r--  1 gdm     gdm         11 Sep  6 09:13 .X1024-lock\n",
      "drwx------  3 root    root      4096 Sep  6 09:13 systemd-private-067fb8566772478cb30231b160c7121b-upower.service-E4bvi5\n",
      "drwx------  2 gdm     gdm       4096 Sep  6 09:13 tracker-extract-3-files.125\n",
      "drwxrwxrwt  2 root    root      4096 Sep  6 09:14 .ICE-unix\n",
      "-r--r--r--  1 trapapa trapapa     11 Sep  6 09:14 .X1-lock\n",
      "drwxrwxrwt  2 root    root      4096 Sep  6 09:14 .X11-unix\n",
      "-r--r--r--  1 trapapa trapapa     11 Sep  6 09:14 .X0-lock\n",
      "drwx------  2 trapapa trapapa   4096 Sep  6 09:14 tracker-extract-3-files.1000\n",
      "drwx------  6 root    root      4096 Sep  6 09:14 snap-private-tmp\n",
      "drwxrwxr-x  5 trapapa trapapa   4096 Sep  6 09:21 .tmpJIEKAv\n",
      "drwxrwxr-x  5 trapapa trapapa   4096 Sep  6 09:23 .tmpe0pcWr\n",
      "-rw-------  1 trapapa trapapa    772 Sep  6 09:43 tmpct0s8_41.html\n",
      "drwxrwxr-x  5 trapapa trapapa   4096 Sep  6 09:46 .tmpY28fS5\n",
      "drwxrwxr-x  5 trapapa trapapa   4096 Sep  6 09:47 .tmpiVqx9I\n",
      "drwxrwxr-x  5 trapapa trapapa   4096 Sep  6 09:49 .tmpfhSRWG\n",
      "drwxrwxr-x  5 trapapa trapapa   4096 Sep  6 09:49 .tmpIMlV25\n",
      "drwxrwxr-x  5 trapapa trapapa   4096 Sep  6 09:51 .tmpJgQtOq\n",
      "drwxrwxr-x  5 trapapa trapapa   4096 Sep  6 09:54 .tmpFTkcX4\n",
      "-rw-rw-r--  1 trapapa trapapa      0 Sep  6 10:03 ac60718e-2767-4f17-88a9-c910e6f45102.txt\n",
      "drwxrwxr-x  5 trapapa trapapa   4096 Sep  6 11:03 .tmplgvmQ4\n",
      "drwxrwxr-x  5 trapapa trapapa   4096 Sep  6 11:08 .tmpW86WbS\n",
      "drwxrwxr-x  5 trapapa trapapa   4096 Sep  6 11:22 .tmp0MhIXV\n",
      "drwxrwxr-x  5 trapapa trapapa   4096 Sep  6 11:23 .tmpM8gl4l\n",
      "drwx------  2 trapapa trapapa   4096 Sep  6 11:25 pyright-17659-OH1dIt8XIjVj\n",
      "drwxrwxr-x  5 trapapa trapapa   4096 Sep  6 11:25 .tmpjWu5xm\n",
      "drwxrwxr-x  4 trapapa trapapa   4096 Sep  6 11:30 python-languageserver-cancellation\n",
      "-rw-rw-r--  1 trapapa trapapa 149145 Sep  6 11:30 exthost-fd5977.cpuprofile\n",
      "drwxrwxr-x  5 trapapa trapapa   4096 Sep  6 11:30 .tmpPaviGM\n",
      "drwx------  2 trapapa trapapa   4096 Sep  6 11:30 pyright-18156-XbKKEBkMd6aT\n",
      "drwxrwxr-x  5 trapapa trapapa   4096 Sep  6 11:30 .tmppufvBA\n",
      "drwxrwxrwt 38 root    root     12288 Sep  6 12:00 .\n"
     ]
    },
    {
     "name": "stderr",
     "output_type": "stream",
     "text": [
      "Running [\"ls\", \"-ltra\", \"/tmp\", \"|\", \"grep \\\"unix\\\"\"] exited with error; status code: 2\n"
     ]
    }
   ],
   "source": [
    "// ls -ltrdt   --color=none /tmp/.tmp* |head -1| awk '{print $9}'\n",
    "use cmd_lib::*;\n",
    "\n",
    "let command = vec![vec![\"ls\",\"-ltra\", \"/tmp\",\"|\",\"grep \\\"unix\\\"\"], vec![\"ls\",\"-a\", \"/var\"]];\n",
    "for cmd in command {\n",
    "    run_cmd!($[cmd])?; \n",
    "}\n"
   ]
  }
 ],
 "metadata": {
  "kernelspec": {
   "display_name": "Rust",
   "language": "rust",
   "name": "rust"
  },
  "language_info": {
   "codemirror_mode": "rust",
   "file_extension": ".rs",
   "mimetype": "text/rust",
   "name": "Rust",
   "pygment_lexer": "rust",
   "version": ""
  },
  "orig_nbformat": 4
 },
 "nbformat": 4,
 "nbformat_minor": 2
}
