{
 "cells": [
  {
   "cell_type": "markdown",
   "metadata": {},
   "source": [
    "# try test"
   ]
  },
  {
   "cell_type": "markdown",
   "metadata": {},
   "source": [
    "# [CODE FROM HERE](https://web.mit.edu/rust-lang_v1.25/arch/amd64_ubuntu1404/share/doc/rust/html/book/second-edition/ch11-01-writing-tests.html)"
   ]
  },
  {
   "cell_type": "code",
   "execution_count": null,
   "metadata": {
    "vscode": {
     "languageId": "rust"
    }
   },
   "outputs": [],
   "source": [
    "#[cfg(test)]\n",
    "mod tests {\n",
    "    #[test]\n",
    "    fn it_works() {\n",
    "        assert_eq!(2 + 2, 4);\n",
    "    }\n",
    "}\n"
   ]
  },
  {
   "cell_type": "markdown",
   "metadata": {},
   "source": [
    "# find the work dir of notebook"
   ]
  },
  {
   "cell_type": "markdown",
   "metadata": {},
   "source": [
    "# the last generate folder inside /tmp\n",
    "ls -ltrdt   --color=none /tmp/.tmp* |head -1| awk '{print $9}'"
   ]
  },
  {
   "cell_type": "code",
   "execution_count": null,
   "metadata": {
    "vscode": {
     "languageId": "rust"
    }
   },
   "outputs": [],
   "source": [
    ":dep cmd_lib"
   ]
  },
  {
   "cell_type": "code",
   "execution_count": null,
   "metadata": {
    "vscode": {
     "languageId": "rust"
    }
   },
   "outputs": [],
   "source": [
    "use cmd_lib::*;\n",
    "\n",
    "let gopts = vec![vec![\"-l\", \"-a\", \"/\"], vec![\"-a\", \"/var\"]];\n",
    "for opts in gopts {\n",
    "    run_cmd!(ls $[opts])?;\n",
    "}"
   ]
  },
  {
   "cell_type": "code",
   "execution_count": null,
   "metadata": {
    "vscode": {
     "languageId": "rust"
    }
   },
   "outputs": [],
   "source": [
    "// ls -ltrdt   --color=none /tmp/.tmp* |head -1| awk '{print $9}'\n",
    "use cmd_lib::*;\n",
    "\n",
    "let command = vec![vec![\"ls\",\"-l\", \"-a\", \"/tmp\"], vec![\"uname\", \"-a\"]];\n",
    "for cmd in command {\n",
    "    run_cmd!($[cmd])?; \n",
    "}"
   ]
  },
  {
   "cell_type": "code",
   "execution_count": null,
   "metadata": {
    "vscode": {
     "languageId": "rust"
    }
   },
   "outputs": [],
   "source": [
    "// ls -ltrdt   --color=none /tmp/.tmp* |head -1| awk '{print $9}'\n",
    "use cmd_lib::*;\n",
    "\n",
    "let command = vec![vec![\"ls\",\"-l\", \"-a\", \"/tmp\"]];\n",
    "for cmd in command {\n",
    "    run_cmd!($[cmd])?; \n",
    "}"
   ]
  },
  {
   "cell_type": "code",
   "execution_count": 67,
   "metadata": {
    "vscode": {
     "languageId": "rust"
    }
   },
   "outputs": [
    {
     "name": "stdout",
     "output_type": "stream",
     "text": [
      "46\n"
     ]
    },
    {
     "data": {
      "text/plain": [
       "()"
      ]
     },
     "execution_count": 67,
     "metadata": {},
     "output_type": "execute_result"
    }
   ],
   "source": [
    "// ls -ltrdt   --color=none /tmp/.tmp* |head -1| awk '{print $9}'\n",
    "use cmd_lib::*;\n",
    "\n",
    "let command = vec![vec![\"bash\",\"-c\",\"ls -l -a /tmp | wc -l\"]];\n",
    "for cmd in command {\n",
    "    run_cmd!($[cmd])?; \n",
    "}"
   ]
  },
  {
   "cell_type": "code",
   "execution_count": null,
   "metadata": {
    "vscode": {
     "languageId": "rust"
    }
   },
   "outputs": [],
   "source": []
  },
  {
   "cell_type": "code",
   "execution_count": null,
   "metadata": {
    "vscode": {
     "languageId": "rust"
    }
   },
   "outputs": [],
   "source": [
    "// ls -ltrdt   --color=none /tmp/.tmp* |head -1| awk '{print $9}'\n",
    "use cmd_lib::*;\n",
    "\n",
    "let command = vec![vec![\"ls\",\"-ltra\", \"/tmp\",\"|\",\"grep \\\"unix\\\"\"], vec![\"ls\",\"-a\", \"/var\"]];\n",
    "for cmd in command {\n",
    "    run_cmd!($[cmd])?; \n",
    "}\n"
   ]
  },
  {
   "cell_type": "markdown",
   "metadata": {},
   "source": [
    "# easy step with bash shell"
   ]
  }
 ],
 "metadata": {
  "kernelspec": {
   "display_name": "Rust",
   "language": "rust",
   "name": "rust"
  },
  "language_info": {
   "codemirror_mode": "rust",
   "file_extension": ".rs",
   "mimetype": "text/rust",
   "name": "Rust",
   "pygment_lexer": "rust",
   "version": ""
  },
  "orig_nbformat": 4
 },
 "nbformat": 4,
 "nbformat_minor": 2
}
