{
 "cells": [
  {
   "cell_type": "markdown",
   "metadata": {},
   "source": [
    "# try test"
   ]
  },
  {
   "cell_type": "markdown",
   "metadata": {},
   "source": [
    "# [CODE FROM HERE](https://web.mit.edu/rust-lang_v1.25/arch/amd64_ubuntu1404/share/doc/rust/html/book/second-edition/ch11-01-writing-tests.html)"
   ]
  },
  {
   "cell_type": "code",
   "execution_count": null,
   "metadata": {
    "vscode": {
     "languageId": "rust"
    }
   },
   "outputs": [],
   "source": [
    "#[cfg(test)]\n",
    "mod tests {\n",
    "    #[test]\n",
    "    fn it_works() {\n",
    "        assert_eq!(2 + 2, 4);\n",
    "    }\n",
    "}\n"
   ]
  },
  {
   "cell_type": "markdown",
   "metadata": {},
   "source": [
    "# find the work dir of notebook"
   ]
  },
  {
   "cell_type": "markdown",
   "metadata": {},
   "source": [
    "# the last generate folder inside /tmp\n",
    "ls -ltrdt   --color=none /tmp/.tmp* |head -1| awk '{print $9}'"
   ]
  },
  {
   "cell_type": "code",
   "execution_count": null,
   "metadata": {
    "vscode": {
     "languageId": "rust"
    }
   },
   "outputs": [],
   "source": [
    ":dep cmd_lib"
   ]
  },
  {
   "cell_type": "code",
   "execution_count": null,
   "metadata": {
    "vscode": {
     "languageId": "rust"
    }
   },
   "outputs": [],
   "source": [
    "use cmd_lib::*;\n",
    "\n",
    "let gopts = vec![vec![\"-l\", \"-a\", \"/\"], vec![\"-a\", \"/var\"]];\n",
    "for opts in gopts {\n",
    "    run_cmd!(ls $[opts])?;\n",
    "}"
   ]
  },
  {
   "cell_type": "code",
   "execution_count": null,
   "metadata": {
    "vscode": {
     "languageId": "rust"
    }
   },
   "outputs": [],
   "source": [
    "// ls -ltrdt   --color=none /tmp/.tmp* |head -1| awk '{print $9}'\n",
    "use cmd_lib::*;\n",
    "\n",
    "let command = vec![vec![\"ls\",\"-l\", \"-a\", \"/tmp\"], vec![\"uname\", \"-a\"]];\n",
    "for cmd in command {\n",
    "    run_cmd!($[cmd])?; \n",
    "}"
   ]
  },
  {
   "cell_type": "code",
   "execution_count": null,
   "metadata": {
    "vscode": {
     "languageId": "rust"
    }
   },
   "outputs": [],
   "source": [
    "// ls -ltrdt   --color=none /tmp/.tmp* |head -1| awk '{print $9}'\n",
    "use cmd_lib::*;\n",
    "\n",
    "let command = vec![vec![\"ls\",\"-l\", \"-a\", \"/tmp\"]];\n",
    "for cmd in command {\n",
    "    run_cmd!($[cmd])?; \n",
    "}"
   ]
  },
  {
   "cell_type": "code",
   "execution_count": 67,
   "metadata": {
    "vscode": {
     "languageId": "rust"
    }
   },
   "outputs": [
    {
     "name": "stdout",
     "output_type": "stream",
     "text": [
      "46\n"
     ]
    },
    {
     "data": {
      "text/plain": [
       "()"
      ]
     },
     "execution_count": 67,
     "metadata": {},
     "output_type": "execute_result"
    }
   ],
   "source": [
    "// ls -ltrdt   --color=none /tmp/.tmp* |head -1| awk '{print $9}'\n",
    "use cmd_lib::*;\n",
    "\n",
    "let command = vec![vec![\"bash\",\"-c\",\"ls -l -a /tmp | wc -l\"]];\n",
    "for cmd in command {\n",
    "    run_cmd!($[cmd])?; \n",
    "}"
   ]
  },
  {
   "cell_type": "code",
   "execution_count": 77,
   "metadata": {
    "vscode": {
     "languageId": "rust"
    }
   },
   "outputs": [
    {
     "name": "stdout",
     "output_type": "stream",
     "text": [
      "-rw-rw-r-- 1 trapapa trapapa      0 Sep  6 10:03 /tmp/ac60718e-2767-4f17-88a9-c910e6f45102.txt\n",
      "-rw-rw-r-- 1 trapapa trapapa 149145 Sep  6 11:30 /tmp/exthost-fd5977.cpuprofile\n",
      "-rw------- 1 trapapa trapapa    772 Sep  6 09:43 /tmp/tmpct0s8_41.html\n",
      "\n",
      "src/:\n",
      "insgesamt 12\n",
      "drwxrwxr-x 2 trapapa trapapa 4096 Sep  6 09:18 .\n",
      "drwxrwxr-x 5 trapapa trapapa 4096 Sep  6 10:53 ..\n",
      "-rw-rw-r-- 1 trapapa trapapa   45 Sep  6 09:18 main.rs\n",
      "\n",
      "target/:\n",
      "insgesamt 20\n",
      "drwxrwxr-x 3 trapapa trapapa 4096 Sep  6 09:21 .\n",
      "drwxrwxr-x 5 trapapa trapapa 4096 Sep  6 10:53 ..\n",
      "-rw-rw-r-- 1 trapapa trapapa  177 Sep  6 09:21 CACHEDIR.TAG\n",
      "drwxrwxr-x 7 trapapa trapapa 4096 Sep  6 09:21 debug\n",
      "-rw-rw-r-- 1 trapapa trapapa 1024 Sep  6 11:30 .rustc_info.json\n",
      "\n",
      "/tmp/pyright-17659-OH1dIt8XIjVj:\n",
      "insgesamt 16\n",
      "drwx------  2 trapapa trapapa  4096 Sep  6 11:25 .\n",
      "drwxrwxrwt 38 root    root    12288 Sep  6 13:20 ..\n",
      "\n",
      "/tmp/pyright-18156-XbKKEBkMd6aT:\n",
      "insgesamt 16\n",
      "drwx------  2 trapapa trapapa  4096 Sep  6 11:30 .\n",
      "drwxrwxrwt 38 root    root    12288 Sep  6 13:20 ..\n",
      "\n",
      "/tmp/python-languageserver-cancellation:\n",
      "insgesamt 24\n",
      "drwxrwxr-x  4 trapapa trapapa  4096 Sep  6 11:30 .\n",
      "drwxrwxrwt 38 root    root    12288 Sep  6 13:20 ..\n",
      "drwxrwxr-x  2 trapapa trapapa  4096 Sep  6 11:30 85d1eac6430a56d97078b0ed8ea3b4c632626dd180\n",
      "drwxrwxr-x  2 trapapa trapapa  4096 Sep  6 11:25 c3437043c0e7b79ce335464ba5d2df43c7d3e0029e\n",
      "\n",
      "/tmp/tracker-extract-3-files.1000:\n",
      "insgesamt 16\n",
      "drwx------  2 trapapa trapapa  4096 Sep  6 09:14 .\n",
      "drwxrwxrwt 38 root    root    12288 Sep  6 13:20 ..\n"
     ]
    },
    {
     "name": "stderr",
     "output_type": "stream",
     "text": [
      "Running [\"bash\", \"-c\", \"ls -l -a /tmp/* */ \"] exited with error; status code: 2\n"
     ]
    }
   ],
   "source": [
    "// ls -ltrdt   --color=none /tmp/.tmp* |head -1| awk '{print $9}'\n",
    "use cmd_lib::*;\n",
    "\n",
    "let command = vec![vec![\"bash\",\"-c\",\"ls -l -a /tmp/* */ \"]];\n",
    "for cmd in command {\n",
    "    run_cmd!($[cmd])?; \n",
    "}"
   ]
  }
 ],
 "metadata": {
  "kernelspec": {
   "display_name": "Rust",
   "language": "rust",
   "name": "rust"
  },
  "language_info": {
   "codemirror_mode": "rust",
   "file_extension": ".rs",
   "mimetype": "text/rust",
   "name": "Rust",
   "pygment_lexer": "rust",
   "version": ""
  },
  "orig_nbformat": 4
 },
 "nbformat": 4,
 "nbformat_minor": 2
}
